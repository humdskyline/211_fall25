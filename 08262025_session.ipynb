{
 "cells": [
  {
   "cell_type": "markdown",
   "id": "ce3070dd",
   "metadata": {},
   "source": [
    "### <a href=\"http://www.data8.org/sp20/python-reference.html\"> Python Reference Link <a>\n",
    "\n",
    "Run the cell below so that we can set our modules up\n"
   ]
  },
  {
   "cell_type": "code",
   "execution_count": 2,
   "id": "c529e5f4",
   "metadata": {},
   "outputs": [],
   "source": [
    "import numpy as np\n",
    "from datascience import *\n",
    "import math"
   ]
  },
  {
   "cell_type": "code",
   "execution_count": 3,
   "id": "7c001ba1",
   "metadata": {},
   "outputs": [
    {
     "data": {
      "text/html": [
       "<table border=\"1\" class=\"dataframe\">\n",
       "    <thead>\n",
       "        <tr>\n",
       "            <th>Learner Type</th> <th>Household Count</th> <th>Transportation Used</th> <th>Favorite Sport</th> <th>HS Grad</th> <th>FT Worker</th> <th>Height</th> <th>BA Degree</th> <th>Major</th> <th>City</th> <th>Clss Modality</th> <th>Favorite Color</th> <th>Exercise Hours</th> <th>Meals Per Day</th> <th>Units Enrolled</th>\n",
       "        </tr>\n",
       "    </thead>\n",
       "    <tbody>\n",
       "        <tr>\n",
       "            <td>visual      </td> <td>8              </td> <td>private car        </td> <td>basketball    </td> <td>Yes    </td> <td>No       </td> <td>59    </td> <td>Yes      </td> <td>Mathematics      </td> <td>Daly City           </td> <td>Face-to-face </td> <td>pink          </td> <td>4             </td> <td>2            </td> <td>12            </td>\n",
       "        </tr>\n",
       "        <tr>\n",
       "            <td>visual      </td> <td>4              </td> <td>public transit     </td> <td>Basketball    </td> <td>Yes    </td> <td>No       </td> <td>69    </td> <td>No       </td> <td>Computer Science </td> <td>Daly City           </td> <td>Face-to-face </td> <td>Green         </td> <td>3             </td> <td>4            </td> <td>20            </td>\n",
       "        </tr>\n",
       "        <tr>\n",
       "            <td>visual      </td> <td>4              </td> <td>private car        </td> <td>football      </td> <td>Yes    </td> <td>No       </td> <td>70    </td> <td>No       </td> <td>math             </td> <td>South San Francisco </td> <td>Face-to-face </td> <td>purple        </td> <td>25            </td> <td>4            </td> <td>7             </td>\n",
       "        </tr>\n",
       "        <tr>\n",
       "            <td>visual      </td> <td>4              </td> <td>ride-share         </td> <td>ballet        </td> <td>Yes    </td> <td>No       </td> <td>60    </td> <td>No       </td> <td>Medical science  </td> <td>South San Francisco </td> <td>Online       </td> <td>blue or violet</td> <td>3             </td> <td>3            </td> <td>12            </td>\n",
       "        </tr>\n",
       "        <tr>\n",
       "            <td>visual      </td> <td>4              </td> <td>public transit     </td> <td>Baseball      </td> <td>Yes    </td> <td>Yes      </td> <td>67.2  </td> <td>No       </td> <td>Mathamatics      </td> <td>South San Francisco </td> <td>Face-to-face </td> <td>Black         </td> <td>3             </td> <td>2            </td> <td>12            </td>\n",
       "        </tr>\n",
       "    </tbody>\n",
       "</table>\n",
       "<p>... (15 rows omitted)</p>"
      ],
      "text/plain": [
       "<IPython.core.display.HTML object>"
      ]
     },
     "metadata": {},
     "output_type": "display_data"
    }
   ],
   "source": [
    "link = \"https://raw.githubusercontent.com/humdskyline/211_fall25/main/first_survey.csv\"\n",
    "first_survey = Table.read_table(link)\n",
    "first_survey.show(5)"
   ]
  },
  {
   "cell_type": "markdown",
   "id": "01d383dc",
   "metadata": {},
   "source": [
    "### 1. Write the Python code to find:\n",
    "<i>What cities do people live in?</i>"
   ]
  },
  {
   "cell_type": "code",
   "execution_count": 4,
   "id": "f3bebf68",
   "metadata": {},
   "outputs": [
    {
     "name": "stdout",
     "output_type": "stream",
     "text": [
      "['Daly City' 'Daly City' 'South San Francisco' 'South San Francisco'\n",
      " 'South San Francisco ' 'Daly city' 'Daly City' 'Half moon bay' 'Daly city'\n",
      " 'South San Francsico' 'Daly City' 'Daly City' 'Daly City' 'San Mateo '\n",
      " 'South San Francisco' 'San Mateo' 'montara' 'San Bruno' 'Daly City'\n",
      " 'Daly City']\n"
     ]
    }
   ],
   "source": [
    "cities = first_survey.column(\"City\")\n",
    "print(cities)"
   ]
  },
  {
   "cell_type": "markdown",
   "id": "ce0b6712",
   "metadata": {},
   "source": [
    "### 2. Write the Python code to find:\n",
    "<i>What are the favorite colors of the people that prefer face-to-face classes?</i>"
   ]
  },
  {
   "cell_type": "code",
   "execution_count": null,
   "id": "f7aacec0",
   "metadata": {},
   "outputs": [],
   "source": []
  },
  {
   "cell_type": "markdown",
   "id": "df5ba089",
   "metadata": {},
   "source": [
    "### 3. Write the Python code to find:\n",
    "<i>What are the majors and favorite sports of people who are taking more than 12 units this semester?</i>"
   ]
  },
  {
   "cell_type": "code",
   "execution_count": null,
   "id": "9c514a6e",
   "metadata": {},
   "outputs": [],
   "source": []
  },
  {
   "cell_type": "markdown",
   "id": "1c16b1af",
   "metadata": {},
   "source": [
    "### 4. Write the Python code to find:\n",
    "<i>What are the most meals people in the class eat daily?</i>"
   ]
  },
  {
   "cell_type": "code",
   "execution_count": null,
   "id": "9159a77e",
   "metadata": {},
   "outputs": [],
   "source": []
  },
  {
   "cell_type": "markdown",
   "id": "dae935cf",
   "metadata": {},
   "source": [
    "### What is another way you could answer the previous question?"
   ]
  },
  {
   "cell_type": "code",
   "execution_count": null,
   "id": "272f63e5",
   "metadata": {},
   "outputs": [],
   "source": []
  }
 ],
 "metadata": {
  "celltoolbar": "Tags",
  "kernelspec": {
   "display_name": "Python 3 (ipykernel)",
   "language": "python",
   "name": "python3"
  },
  "language_info": {
   "codemirror_mode": {
    "name": "ipython",
    "version": 3
   },
   "file_extension": ".py",
   "mimetype": "text/x-python",
   "name": "python",
   "nbconvert_exporter": "python",
   "pygments_lexer": "ipython3",
   "version": "3.11.13"
  }
 },
 "nbformat": 4,
 "nbformat_minor": 5
}
