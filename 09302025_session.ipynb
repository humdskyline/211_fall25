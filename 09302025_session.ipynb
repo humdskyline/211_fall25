{
 "cells": [
  {
   "cell_type": "markdown",
   "id": "ce3070dd",
   "metadata": {},
   "source": [
    "### <a href=\"http://www.data8.org/sp20/python-reference.html\"> Python Reference Link <a>\n",
    "\n",
    "Run the cell below so that we can set our modules up\n"
   ]
  },
  {
   "cell_type": "code",
   "execution_count": 1,
   "id": "c529e5f4",
   "metadata": {},
   "outputs": [],
   "source": [
    "import numpy as np\n",
    "from datascience import *\n",
    "import math"
   ]
  },
  {
   "cell_type": "code",
   "execution_count": 2,
   "id": "7c001ba1",
   "metadata": {},
   "outputs": [
    {
     "data": {
      "text/html": [
       "<table border=\"1\" class=\"dataframe\">\n",
       "    <thead>\n",
       "        <tr>\n",
       "            <th>Costco Member</th> <th>Cars Owned</th> <th>Driving Pref</th> <th>Siblings Count</th> <th>Favorite Music</th> <th>Shopping Pref</th> <th>Food Pref</th> <th>Lactose Intolerant</th> <th>Close Friends Count</th> <th>Kids Count</th> <th>Pet Pref</th> <th>Lightsaber Color</th> <th>Starter Pokemon</th> <th>Daily Screen Time</th>\n",
       "        </tr>\n",
       "    </thead>\n",
       "    <tbody>\n",
       "        <tr>\n",
       "            <td>Yes          </td> <td>1         </td> <td>driving     </td> <td>0             </td> <td>electronic    </td> <td>online shopping   </td> <td>Mexican  </td> <td>No                </td> <td>5                  </td> <td>2         </td> <td>dog     </td> <td>green blue      </td> <td>Charmander     </td> <td>more than 5 hours</td>\n",
       "        </tr>\n",
       "        <tr>\n",
       "            <td>No           </td> <td>1         </td> <td>driving     </td> <td>2             </td> <td>pop           </td> <td>online shopping   </td> <td>Japanese </td> <td>No                </td> <td>12                 </td> <td>0         </td> <td>cat     </td> <td>white           </td> <td>Bulbasaur      </td> <td>more than 5 hours</td>\n",
       "        </tr>\n",
       "        <tr>\n",
       "            <td>Yes          </td> <td>1         </td> <td>driving     </td> <td>1             </td> <td>Alternative   </td> <td>online shopping   </td> <td>Japanese </td> <td>No                </td> <td>5                  </td> <td>1         </td> <td>dog     </td> <td>purple          </td> <td>Charmander     </td> <td>3 - 4 hours      </td>\n",
       "        </tr>\n",
       "        <tr>\n",
       "            <td>Yes          </td> <td>1         </td> <td>driving     </td> <td>1.5           </td> <td>Alt           </td> <td>online shopping   </td> <td>Japanese </td> <td>No                </td> <td>9                  </td> <td>1         </td> <td>dog     </td> <td>orange          </td> <td>Squirtle       </td> <td>1 - 2 hours      </td>\n",
       "        </tr>\n",
       "        <tr>\n",
       "            <td>Yes          </td> <td>1         </td> <td>driving     </td> <td>0             </td> <td>R & B         </td> <td>in person shopping</td> <td>Japanese </td> <td>No                </td> <td>8                  </td> <td>0         </td> <td>dog     </td> <td>purple          </td> <td>Charmander     </td> <td>more than 5 hours</td>\n",
       "        </tr>\n",
       "    </tbody>\n",
       "</table>\n",
       "<p>... (254 rows omitted)</p>"
      ],
      "text/plain": [
       "<IPython.core.display.HTML object>"
      ]
     },
     "metadata": {},
     "output_type": "display_data"
    }
   ],
   "source": [
    "link = \"https://raw.githubusercontent.com/humdskyline/data/main/class_survey_s2025.csv\"\n",
    "class_survey = Table.read_table(link)\n",
    "class_survey.show(5)"
   ]
  },
  {
   "cell_type": "markdown",
   "id": "01d383dc",
   "metadata": {},
   "source": [
    "## 1. Write the Python code to find:\n",
    "<i>What is the population mean number of close friends people in the survey have?</i>"
   ]
  },
  {
   "cell_type": "code",
   "execution_count": 3,
   "id": "f3bebf68",
   "metadata": {},
   "outputs": [
    {
     "name": "stdout",
     "output_type": "stream",
     "text": [
      "[  5  12   5   9   8   6   5   2   3  10   5   3 500  19   5   9   5   4\n",
      "   5   1  10   5  10   4   5   6   3   1   5   8   4   6   4   7   4   0\n",
      "   4   3   7   8   3   5   6  10   2   5   5   7  10   5   5   5   4  10\n",
      "   6   5   4   3   5   3   5  20   5  10   5   2   3  10   8   7   4  10\n",
      "   3   1   2   5   5   7   3   8  10   3   2   5   5  20   2   5   4  10\n",
      "  10   3   4   2   4   4   4   3   5   5   8   4   8  12   1   6   5   1\n",
      "   2   0   3   3   7   4   6   3   8   4   5   2   3   3   5   3   3   2\n",
      "  20   5   5   7   8   2   4   4   2   3   6   5   6   3   9   5  10   5\n",
      "   2   3   0   4   4   4   3   2   4   4   3   5   2   3   5   7   4   5\n",
      "   3   4   5   3   2   5   2   3   3   0   4   2   1   1   0   1   3   3\n",
      "   2   4   0   3   4   2   2   2   0   4   0   6  15   1  30   4   0   4\n",
      "   5   1   1   7   2   1   2   3   2   1   4   1   0   2   2  10   3   3\n",
      "   2   4   1   3   2   4   0   2   2   1   1   3   2   2   3   3   1   1\n",
      "   0   6   4   8   5   4   7   3   6   4   2   8   2   5   2   2   4   7\n",
      "   2   2  10  12   7   3   4]\n",
      "6.50193050193\n"
     ]
    }
   ],
   "source": [
    "cfc = class_survey.column(\"Close Friends Count\")\n",
    "print(cfc)\n",
    "cfc_avg = np.average(cfc)\n",
    "print(cfc_avg)"
   ]
  },
  {
   "cell_type": "markdown",
   "id": "bdd26f3c",
   "metadata": {},
   "source": [
    "## Let's start by looking at random sampling (with replacement)\n",
    "### 2. Start by setting sample size to 10.  Use np.random.choice to get a sample.  Then find the sample mean.\n",
    "Rerun the cell several times to see how the sample and sample mean change"
   ]
  },
  {
   "cell_type": "code",
   "execution_count": 18,
   "id": "f270e7ac",
   "metadata": {},
   "outputs": [
    {
     "name": "stdout",
     "output_type": "stream",
     "text": [
      "[ 3  2  5  2  2  9  8  1  5  5  2  5  9  2  2  3  5  5  3  5  1  1  5  5  2\n",
      "  4  5  5  0  5  3 10  0  3  3 20  5  3  4  2  3  4  3  4  4  1 12  5  6  3\n",
      "  4  2  3 20  7  3  8  2  3 20  3  2  2  3  2  8  4  0 10  1  3  3  5  3  3\n",
      "  4  5  2  5  0  3 12  4  2  3  0  3  5  4  5  4  5  4  5  2  6  5 19 10  8]\n",
      "4.63\n"
     ]
    }
   ],
   "source": [
    "sample_size = 100\n",
    "\n",
    "a_sample = np.random.choice(cfc, sample_size)\n",
    "a_sample_mean = np.average(a_sample)\n",
    "print(a_sample)\n",
    "print(a_sample_mean)"
   ]
  },
  {
   "cell_type": "markdown",
   "id": "a8d99265",
   "metadata": {},
   "source": [
    "### Now increase the sample size above.  Run the cell again a few times and observe the sample and sample means\n",
    "\n",
    "And then play around with the sample size, running the cell again several times and observe.  What do you notice?"
   ]
  },
  {
   "cell_type": "markdown",
   "id": "8cb4b6fb",
   "metadata": {},
   "source": [
    "## Now let's look at a simple random sample (without replacement) and see how that sample mean compares\n",
    "\n",
    "Recall that to use the sample method, you start with a table and the output is a table\n",
    "Start with a sample size of 10, run it a few times, and observe.  Then play around with the sample size."
   ]
  },
  {
   "cell_type": "code",
   "execution_count": 30,
   "id": "16c8e838",
   "metadata": {},
   "outputs": [
    {
     "name": "stdout",
     "output_type": "stream",
     "text": [
      "[ 2  7  2  7  8  1  4  5  3  3  8  5  3  5  2  4 10 10  4  2  3  3  1  1  4\n",
      "  2  0  2  2  3  7  3  7  2  4  1  2  5  3  2  5  5 10  5  5  5  4  8  2  0\n",
      "  2  2  2  7  4  1  5  2 10  1  1  5  3  5  6  1  0  5  3  2  4 15  9  2  1\n",
      "  4 20  0  3  3  3  6  4 30  5  9 10  3  6  4 10  1  8  2  4  6  3  5  3  0]\n",
      "4.51\n"
     ]
    }
   ],
   "source": [
    "sample_size_2 = 100\n",
    "srs = class_survey.sample(sample_size_2, with_replacement = False)\n",
    "sample_cfc = srs.column(\"Close Friends Count\")\n",
    "print(sample_cfc)\n",
    "cfc_srs_sample_mean = np.average(sample_cfc)\n",
    "print(cfc_srs_sample_mean)"
   ]
  },
  {
   "cell_type": "markdown",
   "id": "e08ff577",
   "metadata": {},
   "source": [
    "## In reality, we also take into account how the sample mean behaves, by looking at the sampling distribution of sample means.  We will talk about this in the future, but for now, let's put some ideas together.\n",
    "- We want to get 1000 samples of size 30\n",
    "- Find the mean of each sample and store them in an array\n",
    "- Then find the mean of all those sample means.\n",
    "\n",
    "Use simple random sampling without replacement for this.  Run this a few times.  What do you notice about the mean of the sample means?"
   ]
  },
  {
   "cell_type": "code",
   "execution_count": 47,
   "id": "f7aacec0",
   "metadata": {},
   "outputs": [
    {
     "name": "stdout",
     "output_type": "stream",
     "text": [
      "6.2903\n"
     ]
    }
   ],
   "source": [
    "sample_size = 30\n",
    "num_samples = 1000\n",
    "the_sample_averages = make_array()\n",
    "\n",
    "for i in np.arange(num_samples):\n",
    "    srs = class_survey.sample(sample_size, with_replacement = False)\n",
    "    #print(srs)\n",
    "    sample_cfc = srs.column(\"Close Friends Count\")\n",
    "    samp_avg = np.average(sample_cfc)\n",
    "    \n",
    "    #notice that I am essentially appending the latest sample mean to the array of sample means\n",
    "    the_sample_averages = np.append(the_sample_averages, samp_avg)\n",
    "    \n",
    "samp_avg_samp_mean = np.mean(the_sample_averages)\n",
    "\n",
    "print(samp_avg_samp_mean)"
   ]
  },
  {
   "cell_type": "code",
   "execution_count": null,
   "id": "0de7ab06",
   "metadata": {},
   "outputs": [],
   "source": []
  },
  {
   "cell_type": "code",
   "execution_count": null,
   "id": "bbf079be",
   "metadata": {},
   "outputs": [],
   "source": []
  }
 ],
 "metadata": {
  "celltoolbar": "Tags",
  "kernelspec": {
   "display_name": "Python 3 (ipykernel)",
   "language": "python",
   "name": "python3"
  },
  "language_info": {
   "codemirror_mode": {
    "name": "ipython",
    "version": 3
   },
   "file_extension": ".py",
   "mimetype": "text/x-python",
   "name": "python",
   "nbconvert_exporter": "python",
   "pygments_lexer": "ipython3",
   "version": "3.11.13"
  }
 },
 "nbformat": 4,
 "nbformat_minor": 5
}
