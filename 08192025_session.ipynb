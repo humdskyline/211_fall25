{
 "cells": [
  {
   "cell_type": "markdown",
   "id": "00422831-0590-45c2-a554-f0cb1b54cfcf",
   "metadata": {},
   "source": [
    "# The very <i>first thing</i> you should do is:\n",
    "- File -> Save Notebook\n",
    "\n",
    "This saves the current (working) state of this notebook.  If you accidentally delete a cell (generally you should <i>never</i> delete a cell) or something, you can always revert back to the beginning."
   ]
  },
  {
   "cell_type": "markdown",
   "id": "7f85cd2c",
   "metadata": {},
   "source": [
    "# [Python Reference Link](http://www.data8.org/sp20/python-reference.html)\n",
    "*Run the cell below so that we can set our modules up*"
   ]
  },
  {
   "cell_type": "code",
   "execution_count": null,
   "id": "3b5e82ac",
   "metadata": {},
   "outputs": [],
   "source": [
    "import numpy as np\n",
    "from datascience import *\n",
    "import math"
   ]
  },
  {
   "cell_type": "markdown",
   "id": "c84e299c",
   "metadata": {},
   "source": [
    "# Numbers"
   ]
  },
  {
   "cell_type": "code",
   "execution_count": null,
   "id": "e3994415",
   "metadata": {},
   "outputs": [],
   "source": [
    "10/3"
   ]
  },
  {
   "cell_type": "code",
   "execution_count": null,
   "id": "d654e35c",
   "metadata": {},
   "outputs": [],
   "source": [
    "3"
   ]
  },
  {
   "cell_type": "code",
   "execution_count": null,
   "id": "f33d1e37",
   "metadata": {},
   "outputs": [],
   "source": [
    "3.0"
   ]
  },
  {
   "cell_type": "code",
   "execution_count": null,
   "id": "2977440d",
   "metadata": {},
   "outputs": [],
   "source": [
    "1.329487569238476592348765293456293478650234875029438"
   ]
  },
  {
   "cell_type": "code",
   "execution_count": null,
   "id": "71b03eed",
   "metadata": {},
   "outputs": [],
   "source": [
    "123.5**123"
   ]
  },
  {
   "cell_type": "markdown",
   "id": "0e47feaa",
   "metadata": {},
   "source": [
    "# Strings"
   ]
  },
  {
   "cell_type": "code",
   "execution_count": null,
   "id": "5d8b9506",
   "metadata": {},
   "outputs": [],
   "source": [
    "'Here is a string'"
   ]
  },
  {
   "cell_type": "code",
   "execution_count": null,
   "id": "f13b55d6",
   "metadata": {},
   "outputs": [],
   "source": [
    "\"Here is a string as well\""
   ]
  },
  {
   "cell_type": "code",
   "execution_count": null,
   "id": "0edcb73c",
   "metadata": {},
   "outputs": [],
   "source": [
    "greeting = 'hi, wassup'"
   ]
  },
  {
   "cell_type": "code",
   "execution_count": null,
   "id": "8d293c9b",
   "metadata": {},
   "outputs": [],
   "source": [
    "greeting"
   ]
  },
  {
   "cell_type": "code",
   "execution_count": null,
   "id": "2bd09fe4",
   "metadata": {},
   "outputs": [],
   "source": [
    "greeting +' class'"
   ]
  },
  {
   "cell_type": "code",
   "execution_count": null,
   "id": "27f0b155",
   "metadata": {},
   "outputs": [],
   "source": [
    "x = 'ha'\n",
    "'mua'+x*10"
   ]
  },
  {
   "cell_type": "code",
   "execution_count": null,
   "id": "84ca0641-4347-4c40-922c-d2996cce806a",
   "metadata": {},
   "outputs": [],
   "source": []
  }
 ],
 "metadata": {
  "kernelspec": {
   "display_name": "Python 3 (ipykernel)",
   "language": "python",
   "name": "python3"
  },
  "language_info": {
   "codemirror_mode": {
    "name": "ipython",
    "version": 3
   },
   "file_extension": ".py",
   "mimetype": "text/x-python",
   "name": "python",
   "nbconvert_exporter": "python",
   "pygments_lexer": "ipython3",
   "version": "3.11.13"
  }
 },
 "nbformat": 4,
 "nbformat_minor": 5
}
